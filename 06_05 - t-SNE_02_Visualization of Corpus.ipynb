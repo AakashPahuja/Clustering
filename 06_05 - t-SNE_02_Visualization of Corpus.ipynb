{
 "cells": [
  {
   "cell_type": "markdown",
   "metadata": {},
   "source": [
    "# Example 1 - Visualizing a Corpus\n",
    "This example is based on the \"t-SNE Corpus Visualization\" example from YellowBricks.\n",
    "\n",
    "In particular their tSNE-based visualizer transform high dimensional data into a 2D structure. For very high dimensionality data you can apply a SVD (Single Value Decomposition) or PCA (Principle Component Analysis) first (50 components by default) then perform the t-SNE reduction.\n",
    "\n",
    "In this example we are representing documents as vectors using tf-idf scores on text with no prior decomposition."
   ]
  },
  {
   "cell_type": "code",
   "execution_count": 1,
   "metadata": {
    "collapsed": true
   },
   "outputs": [],
   "source": [
    "import os\n",
    "import pandas as pd\n",
    "from yellowbrick.text import TSNEVisualizer\n",
    "from sklearn.feature_extraction.text import TfidfVectorizer\n",
    "from sklearn.datasets.base import Bunch"
   ]
  },
  {
   "cell_type": "markdown",
   "metadata": {},
   "source": [
    "### Defining some utility function to read a corpus\n",
    "A corpus is defined as a set of text document and they are usually contained into a folder structure that also specify their type or genre. In this case, each document is contained within a folder with a label representing their type (book, cinema, cooking, gaming, sports).\n",
    "\n",
    "data/hobbies<br/>\n",
    "├── README.md<br/>\n",
    "└── books<br/>\n",
    "|   ├── 56d62a53c1808113ffb87f1f.txt<br/>\n",
    "|   └── 5745a9c7c180810be6efd70b.txt<br/>\n",
    "└── cinema<br/>\n",
    "|   ├── 56d629b5c1808113ffb87d8f.txt<br/>\n",
    "|   └── 57408e5fc180810be6e574c8.txt<br/>\n",
    "└── cooking<br/>\n",
    "|   ├── 56d62b25c1808113ffb8813b.txt<br/>\n",
    "|   └── 573f0728c180810be6e2575c.txt<br/>\n",
    "└── gaming<br/>\n",
    "|   ├── 56d62654c1808113ffb87938.txt<br/>\n",
    "|   └── 574585d7c180810be6ef7ffc.txt<br/>\n",
    "└── sports<br/>\n",
    "    ├── 56d62adec1808113ffb88054.txt<br/>\n",
    "    └── 56d70f17c180810560aec345.txt<br/>"
   ]
  },
  {
   "cell_type": "code",
   "execution_count": 2,
   "metadata": {
    "collapsed": true
   },
   "outputs": [],
   "source": [
    "files  = [] # holds the file names relative to the root\n",
    "data   = [] # holds the text read from the file\n",
    "target = [] # holds the string of the category\n",
    "\n",
    "def load_corpus(path):\n",
    "    \"\"\"\n",
    "    Loads and wrangles the passed in text corpus by path.\n",
    "    \"\"\"\n",
    "\n",
    "    # Check if the data exists, otherwise download or raise\n",
    "    if not os.path.exists(path):\n",
    "        raise ValueError((\n",
    "            \"'{}' dataset has not been downloaded, \"\n",
    "            \"use the yellowbrick.download module to fetch datasets\"\n",
    "        ).format(path))\n",
    "\n",
    "    # Read the directories in the directory as the categories.\n",
    "    categories = [\n",
    "        cat for cat in os.listdir(path)\n",
    "        if os.path.isdir(os.path.join(path, cat))\n",
    "    ]\n",
    "\n",
    "    # Load the data from the files in the corpus\n",
    "    for cat in categories:\n",
    "        for name in os.listdir(os.path.join(path, cat)):\n",
    "            files.append(os.path.join(path, cat, name))\n",
    "            target.append(cat)\n",
    "\n",
    "            with open(os.path.join(path, cat, name), 'r',encoding=\"utf-8\") as f:\n",
    "                data.append(f.read())\n",
    "\n",
    "\n",
    "    # Return the data bunch for use similar to the newsgroups example\n",
    "    return Bunch(\n",
    "        categories=categories,\n",
    "        files=files,\n",
    "        data=data,\n",
    "        target=target,\n",
    "    )"
   ]
  },
  {
   "cell_type": "markdown",
   "metadata": {},
   "source": [
    "### Each document is represented using tf-Idf scores\n",
    "Each document is represented as a matrix or a word (the associated index really) and the tf-idf score."
   ]
  },
  {
   "cell_type": "code",
   "execution_count": 3,
   "metadata": {
    "collapsed": true
   },
   "outputs": [],
   "source": [
    "path = \"../Datasets/data/hobbies\"\n",
    "\n",
    "corpus = load_corpus(path)\n",
    "tfidf  = TfidfVectorizer()\n",
    "\n",
    "docs   = tfidf.fit_transform(corpus.data)\n",
    "labels = corpus.target"
   ]
  },
  {
   "cell_type": "code",
   "execution_count": 4,
   "metadata": {},
   "outputs": [
    {
     "name": "stdout",
     "output_type": "stream",
     "text": [
      "['books', 'cinema', 'cooking', 'gaming', 'sports']\n",
      "(448, 20140)\n",
      "448\n"
     ]
    }
   ],
   "source": [
    "print (corpus.categories)\n",
    "print (docs.shape)\n",
    "print (len(labels))"
   ]
  },
  {
   "cell_type": "code",
   "execution_count": 5,
   "metadata": {},
   "outputs": [
    {
     "name": "stdout",
     "output_type": "stream",
     "text": [
      "  (0, 7385)\t0.03915428432\n",
      "  (0, 18292)\t0.14228148\n",
      "  (0, 12668)\t0.221311473819\n",
      "  (0, 19386)\t0.101296233633\n",
      "  (0, 3022)\t0.0157017837223\n",
      "  (0, 7688)\t0.0370957322859\n",
      "  (0, 6209)\t0.0254569527584\n",
      "  (0, 12444)\t0.0502496051205\n",
      "  (0, 2487)\t0.208603946495\n",
      "  (0, 773)\t0.22141699184\n",
      "  (0, 12313)\t0.04523295947\n",
      "  (0, 9474)\t0.0111970331392\n",
      "  (0, 18133)\t0.0632772271891\n",
      "  (0, 18556)\t0.0442622947638\n",
      "  (0, 11745)\t0.0148690940005\n",
      "  (0, 12410)\t0.0405268283267\n",
      "  (0, 18056)\t0.0193752109094\n",
      "  (0, 9036)\t0.141013861804\n",
      "  (0, 18068)\t0.165221076144\n",
      "  (0, 2199)\t0.28342918097\n",
      "  (0, 755)\t0.251071121357\n",
      "  (0, 1226)\t0.0694125364044\n",
      "  (0, 757)\t0.298078226981\n",
      "  (0, 3204)\t0.0475482674786\n",
      "  (0, 20028)\t0.0327208478454\n",
      "  :\t:\n",
      "  (0, 14460)\t0.0979368518143\n",
      "  (0, 7875)\t0.15194435045\n",
      "  (0, 12590)\t0.04523295947\n",
      "  (0, 15939)\t0.0329879040456\n",
      "  (0, 2040)\t0.0129277645881\n",
      "  (0, 19546)\t0.0197538721726\n",
      "  (0, 234)\t0.0489684259071\n",
      "  (0, 15881)\t0.0425826038544\n",
      "  (0, 13171)\t0.0475482674786\n",
      "  (0, 430)\t0.059089714397\n",
      "  (0, 13941)\t0.0442622947638\n",
      "  (0, 19675)\t0.0166172818336\n",
      "  (0, 19553)\t0.0329615870061\n",
      "  (0, 3864)\t0.0433842217295\n",
      "  (0, 12693)\t0.0424341622357\n",
      "  (0, 4797)\t0.0405268283267\n",
      "  (0, 4668)\t0.034141006274\n",
      "  (0, 18558)\t0.0506481168165\n",
      "  (0, 14490)\t0.0194997100177\n",
      "  (0, 10340)\t0.0279100247368\n",
      "  (0, 13794)\t0.101296233633\n",
      "  (0, 2242)\t0.0237176319075\n",
      "  (0, 12164)\t0.0270177672597\n",
      "  (0, 13214)\t0.0670928523722\n",
      "  (0, 11810)\t0.0588697502613\n"
     ]
    }
   ],
   "source": [
    "print (docs[0])"
   ]
  },
  {
   "cell_type": "code",
   "execution_count": 6,
   "metadata": {},
   "outputs": [
    {
     "name": "stdout",
     "output_type": "stream",
     "text": [
      "8650\n",
      "home\n",
      "oscar\n"
     ]
    }
   ],
   "source": [
    "#Printing the feature id\n",
    "print(tfidf.vocabulary_.get(\"home\"))\n",
    "\n",
    "# From the feature id we get the feature name\n",
    "print (tfidf.get_feature_names()[tfidf.vocabulary_.get(\"home\")])\n",
    "\n",
    "# Same, but we specific directly the id\n",
    "print (tfidf.get_feature_names()[12668])\n"
   ]
  },
  {
   "cell_type": "code",
   "execution_count": 7,
   "metadata": {},
   "outputs": [
    {
     "data": {
      "image/png": "[encoded data removed]",
      "text/plain": [
       "<matplotlib.figure.Figure at 0xeefc45f518>"
      ]
     },
     "metadata": {},
     "output_type": "display_data"
    }
   ],
   "source": [
    "# Create the visualizer and draw the vectors\n",
    "tsne = TSNEVisualizer()\n",
    "tsne.fit(docs, labels)\n",
    "tsne.poof()"
   ]
  },
  {
   "cell_type": "markdown",
   "metadata": {},
   "source": [
    "You can see here, that each category of documents has text with very specific structures with little overlap.\n",
    "Here the parameter to the TSNEVisualizer object:\n",
    "\n",
    "<b>ax</b>: matplotlib axes. The axes to plot the figure on.\n",
    "\n",
    "<b>decompose</b>: string or None.\n",
    "A preliminary decomposition is often used prior to TSNE to make the projection faster. Specify “svd” for sparse data or “pca” for dense data. If decompose is None, the original data set will be used.\n",
    "\n",
    "<b>decompose_by</b>: int\n",
    "Specify the number of components for preliminary decomposition, by default this is 50; the more components, the slower TSNE will be.\n",
    "\n",
    "<b>classes</b>: list of strings\n",
    "The names of the classes in the target, used to create a legend.\n",
    "\n",
    "<b>colors</b>: list or tuple of colors\n",
    "Specify the colors for each individual class\n",
    "\n",
    "<b>colormap</b>: string or matplotlib cmap\n",
    "Sequential colormap for continuous target\n",
    "\n",
    "<b>kwargs</b>: dict\n",
    "Pass any additional keyword arguments to the TSNE transformer."
   ]
  },
  {
   "cell_type": "markdown",
   "metadata": {},
   "source": [
    "## Using the sklearn t-SNE\n",
    "The previous example is good, but it is not clear how to access the actual groups of documents in order to identify further insight on the data.\n",
    "\n",
    "Let try to use the same dataset, but with the sklearn implementation"
   ]
  },
  {
   "cell_type": "code",
   "execution_count": 8,
   "metadata": {},
   "outputs": [
    {
     "data": {
      "text/plain": [
       "<matplotlib.figure.Figure at 0xeefd5decc0>"
      ]
     },
     "execution_count": 8,
     "metadata": {},
     "output_type": "execute_result"
    },
    {
     "data": {
      "text/plain": [
       "<matplotlib.figure.Figure at 0xeefd5decc0>"
      ]
     },
     "metadata": {},
     "output_type": "display_data"
    }
   ],
   "source": [
    "from collections import OrderedDict\n",
    "import numpy as np\n",
    "import matplotlib.pyplot as plt\n",
    "%matplotlib inline\n",
    "\n",
    "#Plotting the result\n",
    "markers =('s','d','o','^','v') \n",
    "color_map = OrderedDict((('books','red'),('cinema','blue'),('cooking','lightgreen'),('gaming','purple'),('sports','cyan')))\n",
    "color_keys = list(color_map.keys())\n",
    "plt.figure()"
   ]
  },
  {
   "cell_type": "code",
   "execution_count": 9,
   "metadata": {},
   "outputs": [
    {
     "data": {
      "text/plain": [
       "(448, 20140)"
      ]
     },
     "execution_count": 9,
     "metadata": {},
     "output_type": "execute_result"
    }
   ],
   "source": [
    "docs.shape"
   ]
  },
  {
   "cell_type": "code",
   "execution_count": 10,
   "metadata": {
    "collapsed": true
   },
   "outputs": [],
   "source": [
    "from sklearn.manifold import TSNE\n",
    "tsne = TSNE(n_components=2, init='random', metric='cosine', perplexity=20, learning_rate=200, random_state=0)\n",
    "X_2D = tsne.fit_transform(docs.toarray())"
   ]
  },
  {
   "cell_type": "code",
   "execution_count": 11,
   "metadata": {},
   "outputs": [
    {
     "data": {
      "image/png": "[encoded data removed]",
      "text/plain": [
       "<matplotlib.figure.Figure at 0xeefd5e1390>"
      ]
     },
     "metadata": {},
     "output_type": "display_data"
    }
   ],
   "source": [
    "for elem in X_2D:\n",
    "    idx = np.where(X_2D == elem)[0][0]\n",
    "    classe = labels[idx]\n",
    "    mIdx = color_keys.index(classe)\n",
    "    plt.rcParams[\"figure.figsize\"] = [10,10]\n",
    "    plt.scatter(x=elem[0],y=elem[1], c=color_map[classe], marker=markers[mIdx], label=mIdx)"
   ]
  },
  {
   "cell_type": "code",
   "execution_count": 16,
   "metadata": {},
   "outputs": [
    {
     "data": {
      "text/html": [
       "\n",
       "    <div class=\"bk-root\">\n",
       "        <a href=\"http://bokeh.pydata.org\" target=\"_blank\" class=\"bk-logo bk-logo-small bk-logo-notebook\"></a>\n",
       "        <span id=\"3118b791-cc73-4bcf-bf81-b05ecede2cfe\">Loading BokehJS ...</span>\n",
       "    </div>"
      ]
     },
     "metadata": {},
     "output_type": "display_data"
    },
    {
     "data": {
      "application/javascript": [
       "\n",
       "(function(global) {\n",
       "  function now() {\n",
       "    return new Date();\n",
       "  }\n",
       "\n",
       "  var force = true;\n",
       "\n",
       "  if (typeof (window._bokeh_onload_callbacks) === \"undefined\" || force === true) {\n",
       "    window._bokeh_onload_callbacks = [];\n",
       "    window._bokeh_is_loading = undefined;\n",
       "  }\n",
       "\n",
       "\n",
       "  \n",
       "  if (typeof (window._bokeh_timeout) === \"undefined\" || force === true) {\n",
       "    window._bokeh_timeout = Date.now() + 5000;\n",
       "    window._bokeh_failed_load = false;\n",
       "  }\n",
       "\n",
       "  var NB_LOAD_WARNING = {'data': {'text/html':\n",
       "     \"<div style='background-color: #fdd'>\\n\"+\n",
       "     \"<p>\\n\"+\n",
       "     \"BokehJS does not appear to have successfully loaded. If loading BokehJS from CDN, this \\n\"+\n",
       "     \"may be due to a slow or bad network connection. Possible fixes:\\n\"+\n",
       "     \"</p>\\n\"+\n",
       "     \"<ul>\\n\"+\n",
       "     \"<li>re-rerun `output_notebook()` to attempt to load from CDN again, or</li>\\n\"+\n",
       "     \"<li>use INLINE resources instead, as so:</li>\\n\"+\n",
       "     \"</ul>\\n\"+\n",
       "     \"<code>\\n\"+\n",
       "     \"from bokeh.resources import INLINE\\n\"+\n",
       "     \"output_notebook(resources=INLINE)\\n\"+\n",
       "     \"</code>\\n\"+\n",
       "     \"</div>\"}};\n",
       "\n",
       "  function display_loaded() {\n",
       "    if (window.Bokeh !== undefined) {\n",
       "      var el = document.getElementById(\"3118b791-cc73-4bcf-bf81-b05ecede2cfe\");\n",
       "      el.textContent = \"BokehJS \" + Bokeh.version + \" successfully loaded.\";\n",
       "    } else if (Date.now() < window._bokeh_timeout) {\n",
       "      setTimeout(display_loaded, 100)\n",
       "    }\n",
       "  }\n",
       "\n",
       "  function run_callbacks() {\n",
       "    window._bokeh_onload_callbacks.forEach(function(callback) { callback() });\n",
       "    delete window._bokeh_onload_callbacks\n",
       "    console.info(\"Bokeh: all callbacks have finished\");\n",
       "  }\n",
       "\n",
       "  function load_libs(js_urls, callback) {\n",
       "    window._bokeh_onload_callbacks.push(callback);\n",
       "    if (window._bokeh_is_loading > 0) {\n",
       "      console.log(\"Bokeh: BokehJS is being loaded, scheduling callback at\", now());\n",
       "      return null;\n",
       "    }\n",
       "    if (js_urls == null || js_urls.length === 0) {\n",
       "      run_callbacks();\n",
       "      return null;\n",
       "    }\n",
       "    console.log(\"Bokeh: BokehJS not loaded, scheduling load and callback at\", now());\n",
       "    window._bokeh_is_loading = js_urls.length;\n",
       "    for (var i = 0; i < js_urls.length; i++) {\n",
       "      var url = js_urls[i];\n",
       "      var s = document.createElement('script');\n",
       "      s.src = url;\n",
       "      s.async = false;\n",
       "      s.onreadystatechange = s.onload = function() {\n",
       "        window._bokeh_is_loading--;\n",
       "        if (window._bokeh_is_loading === 0) {\n",
       "          console.log(\"Bokeh: all BokehJS libraries loaded\");\n",
       "          run_callbacks()\n",
       "        }\n",
       "      };\n",
       "      s.onerror = function() {\n",
       "        console.warn(\"failed to load library \" + url);\n",
       "      };\n",
       "      console.log(\"Bokeh: injecting script tag for BokehJS library: \", url);\n",
       "      document.getElementsByTagName(\"head\")[0].appendChild(s);\n",
       "    }\n",
       "  };var element = document.getElementById(\"3118b791-cc73-4bcf-bf81-b05ecede2cfe\");\n",
       "  if (element == null) {\n",
       "    console.log(\"Bokeh: ERROR: autoload.js configured with elementid '3118b791-cc73-4bcf-bf81-b05ecede2cfe' but no matching script tag was found. \")\n",
       "    return false;\n",
       "  }\n",
       "\n",
       "  var js_urls = [\"https://cdn.pydata.org/bokeh/release/bokeh-0.12.5.min.js\", \"https://cdn.pydata.org/bokeh/release/bokeh-widgets-0.12.5.min.js\"];\n",
       "\n",
       "  var inline_js = [\n",
       "    function(Bokeh) {\n",
       "      Bokeh.set_log_level(\"info\");\n",
       "    },\n",
       "    \n",
       "    function(Bokeh) {\n",
       "      \n",
       "    },\n",
       "    \n",
       "    function(Bokeh) {\n",
       "      \n",
       "      document.getElementById(\"3118b791-cc73-4bcf-bf81-b05ecede2cfe\").textContent = \"BokehJS is loading...\";\n",
       "    },\n",
       "    function(Bokeh) {\n",
       "      console.log(\"Bokeh: injecting CSS: https://cdn.pydata.org/bokeh/release/bokeh-0.12.5.min.css\");\n",
       "      Bokeh.embed.inject_css(\"https://cdn.pydata.org/bokeh/release/bokeh-0.12.5.min.css\");\n",
       "      console.log(\"Bokeh: injecting CSS: https://cdn.pydata.org/bokeh/release/bokeh-widgets-0.12.5.min.css\");\n",
       "      Bokeh.embed.inject_css(\"https://cdn.pydata.org/bokeh/release/bokeh-widgets-0.12.5.min.css\");\n",
       "    }\n",
       "  ];\n",
       "\n",
       "  function run_inline_js() {\n",
       "    \n",
       "    if ((window.Bokeh !== undefined) || (force === true)) {\n",
       "      for (var i = 0; i < inline_js.length; i++) {\n",
       "        inline_js[i](window.Bokeh);\n",
       "      }if (force === true) {\n",
       "        display_loaded();\n",
       "      }} else if (Date.now() < window._bokeh_timeout) {\n",
       "      setTimeout(run_inline_js, 100);\n",
       "    } else if (!window._bokeh_failed_load) {\n",
       "      console.log(\"Bokeh: BokehJS failed to load within specified timeout.\");\n",
       "      window._bokeh_failed_load = true;\n",
       "    } else if (force !== true) {\n",
       "      var cell = $(document.getElementById(\"3118b791-cc73-4bcf-bf81-b05ecede2cfe\")).parents('.cell').data().cell;\n",
       "      cell.output_area.append_execute_result(NB_LOAD_WARNING)\n",
       "    }\n",
       "\n",
       "  }\n",
       "\n",
       "  if (window._bokeh_is_loading === 0) {\n",
       "    console.log(\"Bokeh: BokehJS loaded, going straight to plotting\");\n",
       "    run_inline_js();\n",
       "  } else {\n",
       "    load_libs(js_urls, function() {\n",
       "      console.log(\"Bokeh: BokehJS plotting callback run at\", now());\n",
       "      run_inline_js();\n",
       "    });\n",
       "  }\n",
       "}(this));"
      ]
     },
     "metadata": {},
     "output_type": "display_data"
    }
   ],
   "source": [
    "from bokeh.io import output_notebook\n",
    "from bokeh.plotting import show, figure\n",
    "\n",
    "# Configure the notebook to generate graph in a cell\n",
    "# Always call this method before any visualization\n",
    "output_notebook()"
   ]
  },
  {
   "cell_type": "code",
   "execution_count": 17,
   "metadata": {},
   "outputs": [
    {
     "data": {
      "text/html": [
       "<div>\n",
       "<style>\n",
       "    .dataframe thead tr:only-child th {\n",
       "        text-align: right;\n",
       "    }\n",
       "\n",
       "    .dataframe thead th {\n",
       "        text-align: left;\n",
       "    }\n",
       "\n",
       "    .dataframe tbody tr th {\n",
       "        vertical-align: top;\n",
       "    }\n",
       "</style>\n",
       "<table border=\"1\" class=\"dataframe\">\n",
       "  <thead>\n",
       "    <tr style=\"text-align: right;\">\n",
       "      <th></th>\n",
       "      <th>x</th>\n",
       "      <th>y</th>\n",
       "      <th>book</th>\n",
       "    </tr>\n",
       "  </thead>\n",
       "  <tbody>\n",
       "    <tr>\n",
       "      <th>0</th>\n",
       "      <td>1.308952</td>\n",
       "      <td>-1.210044</td>\n",
       "      <td>books</td>\n",
       "    </tr>\n",
       "    <tr>\n",
       "      <th>1</th>\n",
       "      <td>3.683610</td>\n",
       "      <td>1.197744</td>\n",
       "      <td>books</td>\n",
       "    </tr>\n",
       "    <tr>\n",
       "      <th>2</th>\n",
       "      <td>4.102567</td>\n",
       "      <td>-0.491403</td>\n",
       "      <td>books</td>\n",
       "    </tr>\n",
       "    <tr>\n",
       "      <th>3</th>\n",
       "      <td>-4.362008</td>\n",
       "      <td>2.223209</td>\n",
       "      <td>books</td>\n",
       "    </tr>\n",
       "    <tr>\n",
       "      <th>4</th>\n",
       "      <td>-1.797606</td>\n",
       "      <td>-11.246559</td>\n",
       "      <td>books</td>\n",
       "    </tr>\n",
       "    <tr>\n",
       "      <th>5</th>\n",
       "      <td>-15.132908</td>\n",
       "      <td>7.890898</td>\n",
       "      <td>books</td>\n",
       "    </tr>\n",
       "    <tr>\n",
       "      <th>6</th>\n",
       "      <td>-10.540944</td>\n",
       "      <td>3.984932</td>\n",
       "      <td>books</td>\n",
       "    </tr>\n",
       "    <tr>\n",
       "      <th>7</th>\n",
       "      <td>-7.219969</td>\n",
       "      <td>2.823558</td>\n",
       "      <td>books</td>\n",
       "    </tr>\n",
       "    <tr>\n",
       "      <th>8</th>\n",
       "      <td>0.010827</td>\n",
       "      <td>-0.878855</td>\n",
       "      <td>books</td>\n",
       "    </tr>\n",
       "    <tr>\n",
       "      <th>9</th>\n",
       "      <td>-10.298955</td>\n",
       "      <td>4.761555</td>\n",
       "      <td>books</td>\n",
       "    </tr>\n",
       "  </tbody>\n",
       "</table>\n",
       "</div>"
      ],
      "text/plain": [
       "           x          y   book\n",
       "0   1.308952  -1.210044  books\n",
       "1   3.683610   1.197744  books\n",
       "2   4.102567  -0.491403  books\n",
       "3  -4.362008   2.223209  books\n",
       "4  -1.797606 -11.246559  books\n",
       "5 -15.132908   7.890898  books\n",
       "6 -10.540944   3.984932  books\n",
       "7  -7.219969   2.823558  books\n",
       "8   0.010827  -0.878855  books\n",
       "9 -10.298955   4.761555  books"
      ]
     },
     "execution_count": 17,
     "metadata": {},
     "output_type": "execute_result"
    }
   ],
   "source": [
    "df = pd.DataFrame(X_2D, columns=['x','y'])\n",
    "df['book'] = target\n",
    "df.head(10)"
   ]
  },
  {
   "cell_type": "code",
   "execution_count": 18,
   "metadata": {},
   "outputs": [
    {
     "data": {
      "text/html": [
       "\n",
       "\n",
       "    <div class=\"bk-root\">\n",
       "        <div class=\"bk-plotdiv\" id=\"dca34073-96aa-4a86-aeef-ac8a55cb0171\"></div>\n",
       "    </div>\n",
       "<script type=\"text/javascript\">\n",
       "  \n",
       "  (function(global) {\n",
       "    function now() {\n",
       "      return new Date();\n",
       "    }\n",
       "  \n",
       "    var force = false;\n",
       "  \n",
       "    if (typeof (window._bokeh_onload_callbacks) === \"undefined\" || force === true) {\n",
       "      window._bokeh_onload_callbacks = [];\n",
       "      window._bokeh_is_loading = undefined;\n",
       "    }\n",
       "  \n",
       "  \n",
       "    \n",
       "    if (typeof (window._bokeh_timeout) === \"undefined\" || force === true) {\n",
       "      window._bokeh_timeout = Date.now() + 0;\n",
       "      window._bokeh_failed_load = false;\n",
       "    }\n",
       "  \n",
       "    var NB_LOAD_WARNING = {'data': {'text/html':\n",
       "       \"<div style='background-color: #fdd'>\\n\"+\n",
       "       \"<p>\\n\"+\n",
       "       \"BokehJS does not appear to have successfully loaded. If loading BokehJS from CDN, this \\n\"+\n",
       "       \"may be due to a slow or bad network connection. Possible fixes:\\n\"+\n",
       "       \"</p>\\n\"+\n",
       "       \"<ul>\\n\"+\n",
       "       \"<li>re-rerun `output_notebook()` to attempt to load from CDN again, or</li>\\n\"+\n",
       "       \"<li>use INLINE resources instead, as so:</li>\\n\"+\n",
       "       \"</ul>\\n\"+\n",
       "       \"<code>\\n\"+\n",
       "       \"from bokeh.resources import INLINE\\n\"+\n",
       "       \"output_notebook(resources=INLINE)\\n\"+\n",
       "       \"</code>\\n\"+\n",
       "       \"</div>\"}};\n",
       "  \n",
       "    function display_loaded() {\n",
       "      if (window.Bokeh !== undefined) {\n",
       "        var el = document.getElementById(\"dca34073-96aa-4a86-aeef-ac8a55cb0171\");\n",
       "        el.textContent = \"BokehJS \" + Bokeh.version + \" successfully loaded.\";\n",
       "      } else if (Date.now() < window._bokeh_timeout) {\n",
       "        setTimeout(display_loaded, 100)\n",
       "      }\n",
       "    }\n",
       "  \n",
       "    function run_callbacks() {\n",
       "      window._bokeh_onload_callbacks.forEach(function(callback) { callback() });\n",
       "      delete window._bokeh_onload_callbacks\n",
       "      console.info(\"Bokeh: all callbacks have finished\");\n",
       "    }\n",
       "  \n",
       "    function load_libs(js_urls, callback) {\n",
       "      window._bokeh_onload_callbacks.push(callback);\n",
       "      if (window._bokeh_is_loading > 0) {\n",
       "        console.log(\"Bokeh: BokehJS is being loaded, scheduling callback at\", now());\n",
       "        return null;\n",
       "      }\n",
       "      if (js_urls == null || js_urls.length === 0) {\n",
       "        run_callbacks();\n",
       "        return null;\n",
       "      }\n",
       "      console.log(\"Bokeh: BokehJS not loaded, scheduling load and callback at\", now());\n",
       "      window._bokeh_is_loading = js_urls.length;\n",
       "      for (var i = 0; i < js_urls.length; i++) {\n",
       "        var url = js_urls[i];\n",
       "        var s = document.createElement('script');\n",
       "        s.src = url;\n",
       "        s.async = false;\n",
       "        s.onreadystatechange = s.onload = function() {\n",
       "          window._bokeh_is_loading--;\n",
       "          if (window._bokeh_is_loading === 0) {\n",
       "            console.log(\"Bokeh: all BokehJS libraries loaded\");\n",
       "            run_callbacks()\n",
       "          }\n",
       "        };\n",
       "        s.onerror = function() {\n",
       "          console.warn(\"failed to load library \" + url);\n",
       "        };\n",
       "        console.log(\"Bokeh: injecting script tag for BokehJS library: \", url);\n",
       "        document.getElementsByTagName(\"head\")[0].appendChild(s);\n",
       "      }\n",
       "    };var element = document.getElementById(\"dca34073-96aa-4a86-aeef-ac8a55cb0171\");\n",
       "    if (element == null) {\n",
       "      console.log(\"Bokeh: ERROR: autoload.js configured with elementid 'dca34073-96aa-4a86-aeef-ac8a55cb0171' but no matching script tag was found. \")\n",
       "      return false;\n",
       "    }\n",
       "  \n",
       "    var js_urls = [];\n",
       "  \n",
       "    var inline_js = [\n",
       "      function(Bokeh) {\n",
       "        (function() {\n",
       "          var fn = function() {\n",
       "            var docs_json = {\"8f9af1c7-abf3-4f65-86e5-e8fa3e5c2668\":{\"roots\":{\"references\":[{\"attributes\":{},\"id\":\"45a7df7a-758d-4db2-875e-fc5f690dfe16\",\"type\":\"BasicTickFormatter\"},{\"attributes\":{\"text_alpha\":{\"value\":0.1},\"text_color\":{\"value\":\"black\"},\"x\":{\"field\":\"x\"},\"y\":{\"field\":\"y\"}},\"id\":\"15612acb-6996-4771-a526-7ddd7b65bca4\",\"type\":\"Text\"},{\"attributes\":{\"callback\":null,\"column_names\":[\"x\",\"y\",\"text\"],\"data\":{\"text\":[\"books\",\"books\",\"books\",\"books\",\"books\",\"books\",\"books\",\"books\",\"books\",\"books\",\"books\",\"books\",\"books\",\"books\",\"books\",\"books\",\"books\",\"books\",\"books\",\"books\",\"books\",\"books\",\"books\",\"books\",\"books\",\"books\",\"books\",\"books\",\"books\",\"books\",\"books\",\"books\",\"books\",\"books\",\"books\",\"books\",\"books\",\"books\",\"books\",\"books\",\"books\",\"books\",\"books\",\"books\",\"books\",\"books\",\"books\",\"books\",\"books\",\"books\",\"books\",\"books\",\"books\",\"books\",\"books\",\"books\",\"books\",\"books\",\"books\",\"books\",\"books\",\"books\",\"books\",\"books\",\"books\",\"books\",\"books\",\"books\",\"books\",\"books\",\"books\",\"books\",\"cinema\",\"cinema\",\"cinema\",\"cinema\",\"cinema\",\"cinema\",\"cinema\",\"cinema\",\"cinema\",\"cinema\",\"cinema\",\"cinema\",\"cinema\",\"cinema\",\"cinema\",\"cinema\",\"cinema\",\"cinema\",\"cinema\",\"cinema\",\"cinema\",\"cinema\",\"cinema\",\"cinema\",\"cinema\",\"cinema\",\"cinema\",\"cinema\",\"cinema\",\"cinema\",\"cinema\",\"cinema\",\"cinema\",\"cinema\",\"cinema\",\"cinema\",\"cinema\",\"cinema\",\"cinema\",\"cinema\",\"cinema\",\"cinema\",\"cinema\",\"cinema\",\"cinema\",\"cinema\",\"cinema\",\"cinema\",\"cinema\",\"cinema\",\"cinema\",\"cinema\",\"cinema\",\"cinema\",\"cinema\",\"cinema\",\"cinema\",\"cinema\",\"cinema\",\"cinema\",\"cinema\",\"cinema\",\"cinema\",\"cinema\",\"cinema\",\"cinema\",\"cinema\",\"cinema\",\"cinema\",\"cinema\",\"cinema\",\"cinema\",\"cinema\",\"cinema\",\"cinema\",\"cinema\",\"cinema\",\"cinema\",\"cinema\",\"cinema\",\"cinema\",\"cinema\",\"cinema\",\"cinema\",\"cinema\",\"cinema\",\"cinema\",\"cinema\",\"cinema\",\"cinema\",\"cinema\",\"cinema\",\"cinema\",\"cinema\",\"cinema\",\"cinema\",\"cinema\",\"cinema\",\"cinema\",\"cinema\",\"cooking\",\"cooking\",\"cooking\",\"cooking\",\"cooking\",\"cooking\",\"cooking\",\"cooking\",\"cooking\",\"cooking\",\"cooking\",\"cooking\",\"cooking\",\"cooking\",\"cooking\",\"cooking\",\"cooking\",\"cooking\",\"cooking\",\"cooking\",\"cooking\",\"cooking\",\"cooking\",\"cooking\",\"cooking\",\"cooking\",\"cooking\",\"cooking\",\"cooking\",\"cooking\",\"gaming\",\"gaming\",\"gaming\",\"gaming\",\"gaming\",\"gaming\",\"gaming\",\"gaming\",\"gaming\",\"gaming\",\"gaming\",\"gaming\",\"gaming\",\"gaming\",\"gaming\",\"gaming\",\"gaming\",\"gaming\",\"gaming\",\"gaming\",\"gaming\",\"gaming\",\"gaming\",\"gaming\",\"gaming\",\"gaming\",\"gaming\",\"gaming\",\"gaming\",\"gaming\",\"gaming\",\"gaming\",\"gaming\",\"gaming\",\"gaming\",\"gaming\",\"gaming\",\"gaming\",\"gaming\",\"gaming\",\"gaming\",\"gaming\",\"gaming\",\"gaming\",\"gaming\",\"gaming\",\"gaming\",\"gaming\",\"gaming\",\"gaming\",\"gaming\",\"gaming\",\"gaming\",\"gaming\",\"gaming\",\"gaming\",\"gaming\",\"gaming\",\"gaming\",\"gaming\",\"gaming\",\"gaming\",\"gaming\",\"gaming\",\"gaming\",\"gaming\",\"gaming\",\"gaming\",\"gaming\",\"gaming\",\"gaming\",\"gaming\",\"gaming\",\"gaming\",\"gaming\",\"gaming\",\"gaming\",\"gaming\",\"gaming\",\"gaming\",\"gaming\",\"gaming\",\"gaming\",\"gaming\",\"gaming\",\"gaming\",\"gaming\",\"gaming\",\"gaming\",\"gaming\",\"gaming\",\"gaming\",\"gaming\",\"gaming\",\"gaming\",\"gaming\",\"gaming\",\"gaming\",\"gaming\",\"gaming\",\"gaming\",\"gaming\",\"gaming\",\"gaming\",\"gaming\",\"gaming\",\"gaming\",\"gaming\",\"gaming\",\"gaming\",\"gaming\",\"gaming\",\"gaming\",\"gaming\",\"gaming\",\"gaming\",\"gaming\",\"gaming\",\"gaming\",\"gaming\",\"gaming\",\"gaming\",\"gaming\",\"gaming\",\"gaming\",\"gaming\",\"gaming\",\"gaming\",\"sports\",\"sports\",\"sports\",\"sports\",\"sports\",\"sports\",\"sports\",\"sports\",\"sports\",\"sports\",\"sports\",\"sports\",\"sports\",\"sports\",\"sports\",\"sports\",\"sports\",\"sports\",\"sports\",\"sports\",\"sports\",\"sports\",\"sports\",\"sports\",\"sports\",\"sports\",\"sports\",\"sports\",\"sports\",\"sports\",\"sports\",\"sports\",\"sports\",\"sports\",\"sports\",\"sports\",\"sports\",\"sports\",\"sports\",\"sports\",\"sports\",\"sports\",\"sports\",\"sports\",\"sports\",\"sports\",\"sports\",\"sports\",\"sports\",\"sports\",\"sports\",\"sports\",\"sports\",\"sports\",\"sports\",\"sports\",\"sports\",\"sports\",\"sports\",\"sports\",\"sports\",\"sports\",\"sports\",\"sports\",\"sports\",\"sports\",\"sports\",\"sports\",\"sports\",\"sports\",\"sports\",\"sports\",\"sports\",\"sports\",\"sports\",\"sports\",\"sports\",\"sports\",\"sports\",\"sports\",\"sports\",\"sports\",\"sports\",\"sports\",\"sports\",\"sports\",\"sports\",\"sports\",\"sports\",\"sports\",\"sports\",\"sports\",\"sports\",\"sports\",\"sports\",\"sports\",\"sports\",\"sports\",\"sports\",\"sports\",\"sports\",\"sports\",\"sports\",\"sports\",\"sports\",\"sports\",\"sports\",\"sports\",\"sports\",\"sports\",\"sports\",\"sports\",\"sports\",\"sports\",\"sports\",\"sports\",\"sports\",\"sports\"],\"x\":{\"__ndarray__\":\"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\",\"dtype\":\"float64\",\"shape\":[448]},\"y\":{\"__ndarray__\":\"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\",\"dtype\":\"float64\",\"shape\":[448]}}},\"id\":\"24b4fbb4-dd63-4eb3-a32f-6f6466656724\",\"type\":\"ColumnDataSource\"},{\"attributes\":{\"overlay\":{\"id\":\"07c16c56-b2c3-4040-96b3-3621e82417f9\",\"type\":\"BoxAnnotation\"},\"plot\":{\"id\":\"f210863c-c080-45c2-bd76-7c38fbb7716c\",\"subtype\":\"Figure\",\"type\":\"Plot\"}},\"id\":\"3a5c6c67-5f1d-495d-ae4c-fc3f43130eef\",\"type\":\"BoxZoomTool\"},{\"attributes\":{\"active_drag\":\"auto\",\"active_scroll\":\"auto\",\"active_tap\":\"auto\",\"tools\":[{\"id\":\"e0542872-051d-4cd0-9261-9796e595e288\",\"type\":\"PanTool\"},{\"id\":\"b1244360-bdfc-4898-bfb0-93e1db9b0c93\",\"type\":\"WheelZoomTool\"},{\"id\":\"3a5c6c67-5f1d-495d-ae4c-fc3f43130eef\",\"type\":\"BoxZoomTool\"},{\"id\":\"044969bd-2750-4062-9884-64531aa7a071\",\"type\":\"SaveTool\"},{\"id\":\"ccbcf493-c95c-416c-8e0b-39b86cab184e\",\"type\":\"ResetTool\"},{\"id\":\"62fe5242-376c-4846-aa97-6d607b675c8d\",\"type\":\"HelpTool\"}]},\"id\":\"5895e43c-1fee-4fbd-9298-c027ca73086c\",\"type\":\"Toolbar\"},{\"attributes\":{\"callback\":null},\"id\":\"71461ce0-5fa5-4986-9c53-54a253c45094\",\"type\":\"DataRange1d\"},{\"attributes\":{},\"id\":\"3b701e8f-add8-4be4-a3aa-105d54c9f836\",\"type\":\"BasicTickFormatter\"},{\"attributes\":{\"callback\":null},\"id\":\"5d6e3ac2-cb38-4024-a7c6-20e77e96e69d\",\"type\":\"DataRange1d\"},{\"attributes\":{\"dimension\":1,\"plot\":{\"id\":\"f210863c-c080-45c2-bd76-7c38fbb7716c\",\"subtype\":\"Figure\",\"type\":\"Plot\"},\"ticker\":{\"id\":\"ba521b08-2195-48fb-89e3-a51e6ceb95b6\",\"type\":\"BasicTicker\"}},\"id\":\"ad542915-bba0-4594-9c14-fab11332c05a\",\"type\":\"Grid\"},{\"attributes\":{},\"id\":\"fdbc9b29-4e21-45e1-a971-1b35febf62da\",\"type\":\"ToolEvents\"},{\"attributes\":{\"below\":[{\"id\":\"83e89b31-d6f2-4147-b462-43822b7de6c0\",\"type\":\"LinearAxis\"}],\"left\":[{\"id\":\"81ec1b49-8cc8-4292-8f7c-b347fc4991d8\",\"type\":\"LinearAxis\"}],\"plot_height\":800,\"plot_width\":800,\"renderers\":[{\"id\":\"83e89b31-d6f2-4147-b462-43822b7de6c0\",\"type\":\"LinearAxis\"},{\"id\":\"8a0567c4-03eb-46eb-b901-7cdbc6011c52\",\"type\":\"Grid\"},{\"id\":\"81ec1b49-8cc8-4292-8f7c-b347fc4991d8\",\"type\":\"LinearAxis\"},{\"id\":\"ad542915-bba0-4594-9c14-fab11332c05a\",\"type\":\"Grid\"},{\"id\":\"07c16c56-b2c3-4040-96b3-3621e82417f9\",\"type\":\"BoxAnnotation\"},{\"id\":\"41c80030-10dd-43b9-8ccc-739ca73d6ba2\",\"type\":\"GlyphRenderer\"}],\"title\":{\"id\":\"ba0e6eb9-1979-471a-8b25-139a9deb644b\",\"type\":\"Title\"},\"tool_events\":{\"id\":\"fdbc9b29-4e21-45e1-a971-1b35febf62da\",\"type\":\"ToolEvents\"},\"toolbar\":{\"id\":\"5895e43c-1fee-4fbd-9298-c027ca73086c\",\"type\":\"Toolbar\"},\"x_range\":{\"id\":\"5d6e3ac2-cb38-4024-a7c6-20e77e96e69d\",\"type\":\"DataRange1d\"},\"y_range\":{\"id\":\"71461ce0-5fa5-4986-9c53-54a253c45094\",\"type\":\"DataRange1d\"}},\"id\":\"f210863c-c080-45c2-bd76-7c38fbb7716c\",\"subtype\":\"Figure\",\"type\":\"Plot\"},{\"attributes\":{\"plot\":null,\"text\":\"\"},\"id\":\"ba0e6eb9-1979-471a-8b25-139a9deb644b\",\"type\":\"Title\"},{\"attributes\":{\"plot\":{\"id\":\"f210863c-c080-45c2-bd76-7c38fbb7716c\",\"subtype\":\"Figure\",\"type\":\"Plot\"}},\"id\":\"ccbcf493-c95c-416c-8e0b-39b86cab184e\",\"type\":\"ResetTool\"},{\"attributes\":{},\"id\":\"ba521b08-2195-48fb-89e3-a51e6ceb95b6\",\"type\":\"BasicTicker\"},{\"attributes\":{\"plot\":{\"id\":\"f210863c-c080-45c2-bd76-7c38fbb7716c\",\"subtype\":\"Figure\",\"type\":\"Plot\"}},\"id\":\"e0542872-051d-4cd0-9261-9796e595e288\",\"type\":\"PanTool\"},{\"attributes\":{\"plot\":{\"id\":\"f210863c-c080-45c2-bd76-7c38fbb7716c\",\"subtype\":\"Figure\",\"type\":\"Plot\"}},\"id\":\"b1244360-bdfc-4898-bfb0-93e1db9b0c93\",\"type\":\"WheelZoomTool\"},{\"attributes\":{\"formatter\":{\"id\":\"3b701e8f-add8-4be4-a3aa-105d54c9f836\",\"type\":\"BasicTickFormatter\"},\"plot\":{\"id\":\"f210863c-c080-45c2-bd76-7c38fbb7716c\",\"subtype\":\"Figure\",\"type\":\"Plot\"},\"ticker\":{\"id\":\"ba521b08-2195-48fb-89e3-a51e6ceb95b6\",\"type\":\"BasicTicker\"}},\"id\":\"81ec1b49-8cc8-4292-8f7c-b347fc4991d8\",\"type\":\"LinearAxis\"},{\"attributes\":{\"plot\":{\"id\":\"f210863c-c080-45c2-bd76-7c38fbb7716c\",\"subtype\":\"Figure\",\"type\":\"Plot\"}},\"id\":\"044969bd-2750-4062-9884-64531aa7a071\",\"type\":\"SaveTool\"},{\"attributes\":{\"text_color\":{\"value\":\"black\"},\"x\":{\"field\":\"x\"},\"y\":{\"field\":\"y\"}},\"id\":\"4333ff69-4703-4870-bf0f-e22d84f90135\",\"type\":\"Text\"},{\"attributes\":{\"plot\":{\"id\":\"f210863c-c080-45c2-bd76-7c38fbb7716c\",\"subtype\":\"Figure\",\"type\":\"Plot\"}},\"id\":\"62fe5242-376c-4846-aa97-6d607b675c8d\",\"type\":\"HelpTool\"},{\"attributes\":{\"bottom_units\":\"screen\",\"fill_alpha\":{\"value\":0.5},\"fill_color\":{\"value\":\"lightgrey\"},\"left_units\":\"screen\",\"level\":\"overlay\",\"line_alpha\":{\"value\":1.0},\"line_color\":{\"value\":\"black\"},\"line_dash\":[4,4],\"line_width\":{\"value\":2},\"plot\":null,\"render_mode\":\"css\",\"right_units\":\"screen\",\"top_units\":\"screen\"},\"id\":\"07c16c56-b2c3-4040-96b3-3621e82417f9\",\"type\":\"BoxAnnotation\"},{\"attributes\":{\"data_source\":{\"id\":\"24b4fbb4-dd63-4eb3-a32f-6f6466656724\",\"type\":\"ColumnDataSource\"},\"glyph\":{\"id\":\"4333ff69-4703-4870-bf0f-e22d84f90135\",\"type\":\"Text\"},\"hover_glyph\":null,\"muted_glyph\":null,\"nonselection_glyph\":{\"id\":\"15612acb-6996-4771-a526-7ddd7b65bca4\",\"type\":\"Text\"},\"selection_glyph\":null},\"id\":\"41c80030-10dd-43b9-8ccc-739ca73d6ba2\",\"type\":\"GlyphRenderer\"},{\"attributes\":{\"plot\":{\"id\":\"f210863c-c080-45c2-bd76-7c38fbb7716c\",\"subtype\":\"Figure\",\"type\":\"Plot\"},\"ticker\":{\"id\":\"33a66a76-c9b4-48fc-bcda-19c5a23e364b\",\"type\":\"BasicTicker\"}},\"id\":\"8a0567c4-03eb-46eb-b901-7cdbc6011c52\",\"type\":\"Grid\"},{\"attributes\":{\"formatter\":{\"id\":\"45a7df7a-758d-4db2-875e-fc5f690dfe16\",\"type\":\"BasicTickFormatter\"},\"plot\":{\"id\":\"f210863c-c080-45c2-bd76-7c38fbb7716c\",\"subtype\":\"Figure\",\"type\":\"Plot\"},\"ticker\":{\"id\":\"33a66a76-c9b4-48fc-bcda-19c5a23e364b\",\"type\":\"BasicTicker\"}},\"id\":\"83e89b31-d6f2-4147-b462-43822b7de6c0\",\"type\":\"LinearAxis\"},{\"attributes\":{},\"id\":\"33a66a76-c9b4-48fc-bcda-19c5a23e364b\",\"type\":\"BasicTicker\"}],\"root_ids\":[\"f210863c-c080-45c2-bd76-7c38fbb7716c\"]},\"title\":\"Bokeh Application\",\"version\":\"0.12.5\"}};\n",
       "            var render_items = [{\"docid\":\"8f9af1c7-abf3-4f65-86e5-e8fa3e5c2668\",\"elementid\":\"dca34073-96aa-4a86-aeef-ac8a55cb0171\",\"modelid\":\"f210863c-c080-45c2-bd76-7c38fbb7716c\"}];\n",
       "            \n",
       "            Bokeh.embed.embed_items(docs_json, render_items);\n",
       "          };\n",
       "          if (document.readyState != \"loading\") fn();\n",
       "          else document.addEventListener(\"DOMContentLoaded\", fn);\n",
       "        })();\n",
       "      },\n",
       "      function(Bokeh) {\n",
       "      }\n",
       "    ];\n",
       "  \n",
       "    function run_inline_js() {\n",
       "      \n",
       "      if ((window.Bokeh !== undefined) || (force === true)) {\n",
       "        for (var i = 0; i < inline_js.length; i++) {\n",
       "          inline_js[i](window.Bokeh);\n",
       "        }if (force === true) {\n",
       "          display_loaded();\n",
       "        }} else if (Date.now() < window._bokeh_timeout) {\n",
       "        setTimeout(run_inline_js, 100);\n",
       "      } else if (!window._bokeh_failed_load) {\n",
       "        console.log(\"Bokeh: BokehJS failed to load within specified timeout.\");\n",
       "        window._bokeh_failed_load = true;\n",
       "      } else if (force !== true) {\n",
       "        var cell = $(document.getElementById(\"dca34073-96aa-4a86-aeef-ac8a55cb0171\")).parents('.cell').data().cell;\n",
       "        cell.output_area.append_execute_result(NB_LOAD_WARNING)\n",
       "      }\n",
       "  \n",
       "    }\n",
       "  \n",
       "    if (window._bokeh_is_loading === 0) {\n",
       "      console.log(\"Bokeh: BokehJS loaded, going straight to plotting\");\n",
       "      run_inline_js();\n",
       "    } else {\n",
       "      load_libs(js_urls, function() {\n",
       "        console.log(\"Bokeh: BokehJS plotting callback run at\", now());\n",
       "        run_inline_js();\n",
       "      });\n",
       "    }\n",
       "  }(this));\n",
       "</script>"
      ]
     },
     "metadata": {},
     "output_type": "display_data"
    }
   ],
   "source": [
    "color=['red', 'cornflowerblue', 'green', 'magenta', 'navy']\n",
    "plot = figure(plot_width=800, plot_height=800)\n",
    "_ = plot.text(x=df.x, y=df.y, text=df.book)\n",
    "show(plot)"
   ]
  },
  {
   "cell_type": "code",
   "execution_count": null,
   "metadata": {
    "collapsed": true
   },
   "outputs": [],
   "source": []
  }
 ],
 "metadata": {
  "kernelspec": {
   "display_name": "Python 3",
   "language": "python",
   "name": "python3"
  },
  "language_info": {
   "codemirror_mode": {
    "name": "ipython",
    "version": 3
   },
   "file_extension": ".py",
   "mimetype": "text/x-python",
   "name": "python",
   "nbconvert_exporter": "python",
   "pygments_lexer": "ipython3",
   "version": "3.6.1"
  }
 },
 "nbformat": 4,
 "nbformat_minor": 2
}
